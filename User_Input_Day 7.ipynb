{
 "cells": [
  {
   "cell_type": "code",
   "execution_count": 1,
   "metadata": {},
   "outputs": [
    {
     "name": "stdout",
     "output_type": "stream",
     "text": [
      "Explain a new project & i will complete with in three months:mapping\n",
      "mapping\n"
     ]
    }
   ],
   "source": [
    "message=input(\"Explain a new project & i will complete with in three months:\")\n",
    "\n",
    "print(message)"
   ]
  },
  {
   "cell_type": "code",
   "execution_count": 2,
   "metadata": {},
   "outputs": [],
   "source": [
    "#enchancing code:"
   ]
  },
  {
   "cell_type": "code",
   "execution_count": 3,
   "metadata": {},
   "outputs": [
    {
     "name": "stdout",
     "output_type": "stream",
     "text": [
      "plz enter your name:swetha\n",
      "\n",
      " welcomeback,swetha!\n"
     ]
    }
   ],
   "source": [
    "name=input(\"plz enter your name:\")\n",
    "\n",
    "print(f\"\\n welcomeback,{name}!\")"
   ]
  },
  {
   "cell_type": "code",
   "execution_count": 5,
   "metadata": {},
   "outputs": [
    {
     "name": "stdout",
     "output_type": "stream",
     "text": [
      "enter ur new code:25\n",
      "\n",
      " enhanc new code,25!\n"
     ]
    }
   ],
   "source": [
    "code=input(\"enter ur new code:\")\n",
    "\n",
    "print(f\"\\n enhanc new code,{code}!\")"
   ]
  },
  {
   "cell_type": "code",
   "execution_count": 6,
   "metadata": {},
   "outputs": [],
   "source": [
    "#numerical input:"
   ]
  },
  {
   "cell_type": "code",
   "execution_count": 8,
   "metadata": {},
   "outputs": [
    {
     "name": "stdout",
     "output_type": "stream",
     "text": [
      "genrate new code:75\n",
      "\n",
      " genrate new code,75!\n"
     ]
    }
   ],
   "source": [
    "code=input(\"genrate new code:\")\n",
    "\n",
    "print(f\"\\n genrate new code,{code}!\")"
   ]
  },
  {
   "cell_type": "code",
   "execution_count": 9,
   "metadata": {},
   "outputs": [
    {
     "data": {
      "text/plain": [
       "str"
      ]
     },
     "execution_count": 9,
     "metadata": {},
     "output_type": "execute_result"
    }
   ],
   "source": [
    "type(code)"
   ]
  },
  {
   "cell_type": "code",
   "execution_count": 10,
   "metadata": {},
   "outputs": [
    {
     "name": "stdout",
     "output_type": "stream",
     "text": [
      "genrate new code:25\n",
      "25\n"
     ]
    }
   ],
   "source": [
    "code=input('genrate new code:')\n",
    "\n",
    "code=int(code)\n",
    "\n",
    "print(code)"
   ]
  },
  {
   "cell_type": "code",
   "execution_count": 14,
   "metadata": {},
   "outputs": [
    {
     "data": {
      "text/plain": [
       "True"
      ]
     },
     "execution_count": 14,
     "metadata": {},
     "output_type": "execute_result"
    }
   ],
   "source": [
    "code >=22"
   ]
  },
  {
   "cell_type": "code",
   "execution_count": 15,
   "metadata": {},
   "outputs": [],
   "source": [
    "# if condition:"
   ]
  },
  {
   "cell_type": "code",
   "execution_count": 1,
   "metadata": {},
   "outputs": [
    {
     "name": "stdout",
     "output_type": "stream",
     "text": [
      "genrate new code:23\n",
      "\n",
      " you can genrate new code!!\n"
     ]
    }
   ],
   "source": [
    "code=input('genrate new code:')\n",
    "\n",
    "code=int(code)\n",
    "\n",
    "if code >=22:\n",
    "    print('\\n you can genrate new code!!')\n",
    "else:\n",
    "    print('\\n try to genrate new code')"
   ]
  },
  {
   "cell_type": "code",
   "execution_count": 2,
   "metadata": {},
   "outputs": [],
   "source": [
    "#num even or odd"
   ]
  },
  {
   "cell_type": "code",
   "execution_count": 3,
   "metadata": {},
   "outputs": [
    {
     "name": "stdout",
     "output_type": "stream",
     "text": [
      "enter a number,and i will tell you its even or odd:56\n",
      "\n",
      " the number is even,56\n"
     ]
    }
   ],
   "source": [
    "num=input('enter a number,and i will tell you its even or odd:')\n",
    "\n",
    "num=int(num)\n",
    "\n",
    "if num%2==0:\n",
    "    print(f\"\\n the number is even,{num}\")\n",
    "else:\n",
    "    print(f\"\\n the number is odd,{num}\")"
   ]
  },
  {
   "cell_type": "code",
   "execution_count": 4,
   "metadata": {},
   "outputs": [
    {
     "name": "stdout",
     "output_type": "stream",
     "text": [
      "enter a number,and i will tell you its even or odd:33\n",
      "\n",
      " the number is odd,33\n"
     ]
    }
   ],
   "source": [
    "num=input('enter a number,and i will tell you its even or odd:')\n",
    "\n",
    "num=int(num)\n",
    "\n",
    "if num%2==0:\n",
    "    print(f\"\\n the number is even,{num}\")\n",
    "else:\n",
    "    print(f\"\\n the number is odd,{num}\")"
   ]
  },
  {
   "cell_type": "code",
   "execution_count": 7,
   "metadata": {},
   "outputs": [
    {
     "name": "stdout",
     "output_type": "stream",
     "text": [
      "enter a number,and i will tell you its even or odd:77\n",
      "\n",
      " the number is odd,77\n"
     ]
    }
   ],
   "source": [
    "num=input('enter a number,and i will tell you its even or odd:')\n",
    "\n",
    "num=int(num)\n",
    "\n",
    "if num%2==0:\n",
    "    print(f\"\\n the number is even,{num}\")\n",
    "else:\n",
    "    print(f\"\\n the number is odd,{num}\")"
   ]
  },
  {
   "cell_type": "code",
   "execution_count": null,
   "metadata": {},
   "outputs": [],
   "source": []
  }
 ],
 "metadata": {
  "kernelspec": {
   "display_name": "Python 3",
   "language": "python",
   "name": "python3"
  },
  "language_info": {
   "codemirror_mode": {
    "name": "ipython",
    "version": 3
   },
   "file_extension": ".py",
   "mimetype": "text/x-python",
   "name": "python",
   "nbconvert_exporter": "python",
   "pygments_lexer": "ipython3",
   "version": "3.7.4"
  }
 },
 "nbformat": 4,
 "nbformat_minor": 2
}
