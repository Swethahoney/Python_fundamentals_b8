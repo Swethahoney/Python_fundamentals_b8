{
 "cells": [
  {
   "cell_type": "code",
   "execution_count": 1,
   "metadata": {},
   "outputs": [
    {
     "name": "stdout",
     "output_type": "stream",
     "text": [
      "['audi', 'benz', 'bmw', 'toyota']\n"
     ]
    }
   ],
   "source": [
    "cars=['bmw','audi','toyota','benz']\n",
    "cars.sort()\n",
    "print(cars)"
   ]
  },
  {
   "cell_type": "code",
   "execution_count": 3,
   "metadata": {},
   "outputs": [
    {
     "name": "stdout",
     "output_type": "stream",
     "text": [
      "['audi', 'benz', 'bmw', 'toyota']\n"
     ]
    }
   ],
   "source": [
    "cars.sort\n",
    "print(cars)"
   ]
  },
  {
   "cell_type": "code",
   "execution_count": 4,
   "metadata": {},
   "outputs": [
    {
     "name": "stdout",
     "output_type": "stream",
     "text": [
      "['toyota', 'bmw', 'benz', 'audi']\n"
     ]
    }
   ],
   "source": [
    "cars.reverse()\n",
    "print(cars)"
   ]
  },
  {
   "cell_type": "code",
   "execution_count": 5,
   "metadata": {},
   "outputs": [
    {
     "data": {
      "text/plain": [
       "4"
      ]
     },
     "execution_count": 5,
     "metadata": {},
     "output_type": "execute_result"
    }
   ],
   "source": [
    "len(cars)"
   ]
  },
  {
   "cell_type": "code",
   "execution_count": 11,
   "metadata": {},
   "outputs": [
    {
     "name": "stdout",
     "output_type": "stream",
     "text": [
      "['roy', 'krish', 'hari', 'kavya']\n"
     ]
    }
   ],
   "source": [
    "students=['roy','krish','hari','kavya']\n",
    "print(students)"
   ]
  },
  {
   "cell_type": "code",
   "execution_count": 12,
   "metadata": {},
   "outputs": [
    {
     "name": "stdout",
     "output_type": "stream",
     "text": [
      "roy\n",
      "krish\n",
      "hari\n",
      "kavya\n"
     ]
    }
   ],
   "source": [
    "for students in students:\n",
    "    print(students)"
   ]
  },
  {
   "cell_type": "code",
   "execution_count": 13,
   "metadata": {},
   "outputs": [
    {
     "name": "stdout",
     "output_type": "stream",
     "text": [
      "roy\n"
     ]
    }
   ],
   "source": [
    "students=['roy','krish','hari','kavya']\n",
    "print(students[0])"
   ]
  },
  {
   "cell_type": "code",
   "execution_count": 14,
   "metadata": {},
   "outputs": [
    {
     "name": "stdout",
     "output_type": "stream",
     "text": [
      "roy\n",
      "krish\n",
      "hari\n",
      "kavya\n"
     ]
    }
   ],
   "source": [
    "for abc in students:\n",
    "    print(abc)"
   ]
  },
  {
   "cell_type": "code",
   "execution_count": 24,
   "metadata": {},
   "outputs": [
    {
     "name": "stdout",
     "output_type": "stream",
     "text": [
      "roy\n",
      "Roy,keep up the good practise\n",
      "krish\n",
      "Krish,keep up the good practise\n",
      "hari\n",
      "Hari,keep up the good practise\n",
      "kavya\n",
      "Kavya,keep up the good practise\n"
     ]
    }
   ],
   "source": [
    "for abc in students:\n",
    "    print(abc)\n",
    "    print(f\"{abc.title()},keep up the good practise\")"
   ]
  },
  {
   "cell_type": "code",
   "execution_count": 25,
   "metadata": {},
   "outputs": [
    {
     "name": "stdout",
     "output_type": "stream",
     "text": [
      "roy\n",
      "Roy,you are doing good job\n",
      "krish\n",
      "Krish,you are doing good job\n",
      "hari\n",
      "Hari,you are doing good job\n",
      "kavya\n",
      "Kavya,you are doing good job\n"
     ]
    }
   ],
   "source": [
    "for student in students:\n",
    "    print(student) \n",
    "    print(f\"{student.title()},you are doing good job\")"
   ]
  },
  {
   "cell_type": "code",
   "execution_count": 29,
   "metadata": {},
   "outputs": [
    {
     "name": "stdout",
     "output_type": "stream",
     "text": [
      "k\n",
      "K,have a nice day\n",
      "a\n",
      "A,have a nice day\n",
      "v\n",
      "V,have a nice day\n",
      "y\n",
      "Y,have a nice day\n",
      "a\n",
      "A,have a nice day\n"
     ]
    }
   ],
   "source": [
    "for xyz in student:\n",
    "    print(xyz)\n",
    "    print(f\"{xyz.title()},have a nice day\")"
   ]
  },
  {
   "cell_type": "code",
   "execution_count": 30,
   "metadata": {},
   "outputs": [
    {
     "name": "stdout",
     "output_type": "stream",
     "text": [
      "1\n",
      "2\n",
      "3\n",
      "4\n"
     ]
    }
   ],
   "source": [
    "for value in range(1,5):\n",
    "    print(value)"
   ]
  },
  {
   "cell_type": "code",
   "execution_count": 33,
   "metadata": {},
   "outputs": [
    {
     "name": "stdout",
     "output_type": "stream",
     "text": [
      "1\n",
      "2\n",
      "3\n",
      "4\n",
      "5\n",
      "6\n",
      "7\n",
      "8\n",
      "9\n",
      "10\n",
      "11\n",
      "12\n",
      "13\n",
      "14\n",
      "15\n",
      "16\n",
      "17\n",
      "18\n",
      "19\n",
      "20\n",
      "21\n",
      "22\n",
      "23\n",
      "24\n"
     ]
    }
   ],
   "source": [
    "for value in range(1,25):\n",
    "    print(value)"
   ]
  },
  {
   "cell_type": "code",
   "execution_count": 35,
   "metadata": {},
   "outputs": [
    {
     "name": "stdout",
     "output_type": "stream",
     "text": [
      "[1, 2, 3, 4, 5, 6, 7, 8, 9, 10, 11, 12, 13, 14, 15, 16, 17, 18, 19, 20, 21, 22, 23, 24, 25, 26, 27, 28, 29, 30, 31, 32, 33, 34]\n"
     ]
    }
   ],
   "source": [
    "num=list(range(1,35))\n",
    "print(num)"
   ]
  },
  {
   "cell_type": "code",
   "execution_count": 37,
   "metadata": {},
   "outputs": [
    {
     "name": "stdout",
     "output_type": "stream",
     "text": [
      "[2, 6, 10, 14, 18, 22]\n"
     ]
    }
   ],
   "source": [
    "eve_num=list(range(2,25,4))\n",
    "print(eve_num)"
   ]
  },
  {
   "cell_type": "code",
   "execution_count": 38,
   "metadata": {},
   "outputs": [
    {
     "name": "stdout",
     "output_type": "stream",
     "text": [
      "[3, 8, 13, 18, 23, 28, 33, 38, 43, 48, 53]\n"
     ]
    }
   ],
   "source": [
    "odd_num=list(range(3,54,5))\n",
    "print(odd_num)"
   ]
  },
  {
   "cell_type": "code",
   "execution_count": null,
   "metadata": {},
   "outputs": [],
   "source": []
  }
 ],
 "metadata": {
  "kernelspec": {
   "display_name": "Python 3",
   "language": "python",
   "name": "python3"
  },
  "language_info": {
   "codemirror_mode": {
    "name": "ipython",
    "version": 3
   },
   "file_extension": ".py",
   "mimetype": "text/x-python",
   "name": "python",
   "nbconvert_exporter": "python",
   "pygments_lexer": "ipython3",
   "version": "3.7.4"
  }
 },
 "nbformat": 4,
 "nbformat_minor": 2
}
